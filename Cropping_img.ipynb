{
  "nbformat": 4,
  "nbformat_minor": 0,
  "metadata": {
    "colab": {
      "provenance": [],
      "authorship_tag": "ABX9TyNjIVSxpQqJQo/QAJIxRzL7",
      "include_colab_link": true
    },
    "kernelspec": {
      "name": "python3",
      "display_name": "Python 3"
    },
    "language_info": {
      "name": "python"
    }
  },
  "cells": [
    {
      "cell_type": "markdown",
      "metadata": {
        "id": "view-in-github",
        "colab_type": "text"
      },
      "source": [
        "<a href=\"https://colab.research.google.com/github/HanaeMoussaoui/License-plate-detection-and-recognition/blob/main/Cropping_img.ipynb\" target=\"_parent\"><img src=\"https://colab.research.google.com/assets/colab-badge.svg\" alt=\"Open In Colab\"/></a>"
      ]
    },
    {
      "cell_type": "code",
      "execution_count": null,
      "metadata": {
        "id": "I9C6Yrs_c7Az"
      },
      "outputs": [],
      "source": [
        "\n",
        "# Import packages\n",
        "import cv2\n",
        "import numpy as np\n",
        "\n",
        "img = cv2.imread('d.jpeg')\n",
        "print(img.shape) # Print image shape\n",
        "\n",
        "# Cropping an image\n",
        "cropped_image = img[100:400, 20:100]\n",
        "\n",
        "# Display cropped image\n",
        "cv2.imwrite(\"cropped.jpg\", cropped_image)\n",
        "\n",
        "# Save the cropped image\n",
        "cv2.imwrite(\"Cropped Image.jpg\", cropped_image)\n",
        "\n",
        "cv2.waitKey(0)\n",
        "cv2.destroyAllWindows()"
      ]
    }
  ]
}