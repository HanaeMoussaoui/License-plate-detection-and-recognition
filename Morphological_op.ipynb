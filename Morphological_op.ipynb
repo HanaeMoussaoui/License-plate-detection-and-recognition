{
  "nbformat": 4,
  "nbformat_minor": 0,
  "metadata": {
    "colab": {
      "provenance": [],
      "authorship_tag": "ABX9TyMN8pMkqG0QZvRDOV4sWHyN",
      "include_colab_link": true
    },
    "kernelspec": {
      "name": "python3",
      "display_name": "Python 3"
    },
    "language_info": {
      "name": "python"
    }
  },
  "cells": [
    {
      "cell_type": "markdown",
      "metadata": {
        "id": "view-in-github",
        "colab_type": "text"
      },
      "source": [
        "<a href=\"https://colab.research.google.com/github/HanaeMoussaoui/License-plate-detection-and-recognition/blob/main/Morphological_op.ipynb\" target=\"_parent\"><img src=\"https://colab.research.google.com/assets/colab-badge.svg\" alt=\"Open In Colab\"/></a>"
      ]
    },
    {
      "cell_type": "code",
      "metadata": {
        "colab": {
          "base_uri": "https://localhost:8080/"
        },
        "id": "Mob_eCsw-Iud",
        "outputId": "0e83ecfa-df3e-4391-82e7-3bad1ac39637"
      },
      "source": [
        "import cv2\n",
        "import numpy as np\n",
        "import pandas as pd\n",
        "from matplotlib import  pyplot as plt\n",
        "\n",
        "img = cv2.imread('croppeed2.jpeg')\n",
        "\n",
        "# EROSION\n",
        "\n",
        "kernel = np.ones((3,3),np.uint8)\n",
        "erosion = cv2.erode(img,kernel,iterations = 1)\n",
        "cv2.imwrite('Erosion.jpg',erosion)\n",
        "\n",
        "# DILATION\n",
        "\n",
        "kernel = np.ones((6,6),np.uint8)\n",
        "dilation = cv2.dilate(img,kernel,iterations = 1)\n",
        "cv2.imwrite('Dilation.jpg',dilation)\n",
        "\n",
        "# OPENING\n",
        "\n",
        "kernel = np.ones((4,4),np.uint8)\n",
        "opening = cv2.morphologyEx(img, cv2.MORPH_OPEN, kernel)\n",
        "cv2.imwrite('Opening.jpg',opening)\n",
        "\n",
        "# CLOSING\n",
        "\n",
        "kernel = np.ones((4,4),np.uint8)\n",
        "closing = cv2.morphologyEx(img, cv2.MORPH_CLOSE, kernel)\n",
        "cv2.imwrite('Closing.jpg',closing)\n",
        "\n",
        "\n",
        "# MORPHOLOGICAL GRADIENT\n",
        "\n",
        "kernel = np.ones((2,2),np.uint8)\n",
        "gradient = cv2.morphologyEx(dilation, cv2.MORPH_GRADIENT, kernel)\n",
        "cv2.imwrite('Morph_Gradient.jpg',gradient)\n",
        "\n",
        "\n",
        "# TOP HAT\n",
        "\n",
        "\n",
        "kernel = np.ones((5,5),np.uint8)\n",
        "tophat = cv2.morphologyEx(img, cv2.MORPH_TOPHAT, kernel)\n",
        "cv2.imwrite('TopHat.jpg',tophat)\n",
        "\n",
        "# BLACK HAT\n",
        "\n",
        "kernel = np.ones((4,4),np.uint8)\n",
        "blackhat = cv2.morphologyEx(img, cv2.MORPH_BLACKHAT, kernel)\n",
        "cv2.imwrite('BlackHat.jpg',blackhat)\n",
        "\n",
        "kernel = cv2.getStructuringElement(cv2.MORPH_ELLIPSE, (7, 7))\n",
        "opening = cv2.morphologyEx(img, cv2.MORPH_OPEN, kernel)\n",
        "cv2.imwrite('last.jpg',opening)\n",
        "\n"
      ],
      "execution_count": 2,
      "outputs": [
        {
          "output_type": "execute_result",
          "data": {
            "text/plain": [
              "True"
            ]
          },
          "metadata": {},
          "execution_count": 2
        }
      ]
    }
  ]
}