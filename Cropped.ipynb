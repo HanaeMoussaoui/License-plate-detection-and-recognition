{
  "cells": [
    {
      "cell_type": "markdown",
      "metadata": {
        "id": "view-in-github",
        "colab_type": "text"
      },
      "source": [
        "<a href=\"https://colab.research.google.com/github/HanaeMoussaoui/License-plate-detection-and-recognition/blob/main/Cropped.ipynb\" target=\"_parent\"><img src=\"https://colab.research.google.com/assets/colab-badge.svg\" alt=\"Open In Colab\"/></a>"
      ]
    },
    {
      "cell_type": "code",
      "execution_count": null,
      "metadata": {
        "colab": {
          "base_uri": "https://localhost:8080/"
        },
        "id": "x8GSIcxZU_EA",
        "outputId": "16ca3e4f-52ac-492d-8913-cc799f5a4e18"
      },
      "outputs": [
        {
          "output_type": "stream",
          "name": "stdout",
          "text": [
            "(202, 972, 3)\n"
          ]
        }
      ],
      "source": [
        "\n",
        "# Import packages\n",
        "import cv2\n",
        "import numpy as np\n",
        "\n",
        "img = cv2.imread('d.jpeg')\n",
        "print(img.shape) # Print image shape\n",
        "\n",
        "# Cropping an image\n",
        "cropped_image = img[100:400, 20:100]\n",
        "\n",
        "# Display cropped image\n",
        "cv2.imwrite(\"cropped.jpg\", cropped_image)\n",
        "\n",
        "# Save the cropped image\n",
        "cv2.imwrite(\"Cropped Image.jpg\", cropped_image)\n",
        "\n",
        "cv2.waitKey(0)\n",
        "cv2.destroyAllWindows()"
      ]
    },
    {
      "cell_type": "code",
      "source": [
        "from google.colab import drive\n",
        "drive.mount('/content/drive')"
      ],
      "metadata": {
        "id": "0I0m9a2ZM_-O"
      },
      "execution_count": null,
      "outputs": []
    }
  ],
  "metadata": {
    "colab": {
      "provenance": [],
      "authorship_tag": "ABX9TyNJXORAmpC0SGBy62Z5NzHZ",
      "include_colab_link": true
    },
    "kernelspec": {
      "display_name": "Python 3",
      "name": "python3"
    },
    "language_info": {
      "name": "python"
    }
  },
  "nbformat": 4,
  "nbformat_minor": 0
}