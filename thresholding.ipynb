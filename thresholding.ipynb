{
  "cells": [
    {
      "cell_type": "markdown",
      "metadata": {
        "id": "view-in-github",
        "colab_type": "text"
      },
      "source": [
        "<a href=\"https://colab.research.google.com/github/HanaeMoussaoui/License-plate-detection-and-recognition/blob/main/thresholding.ipynb\" target=\"_parent\"><img src=\"https://colab.research.google.com/assets/colab-badge.svg\" alt=\"Open In Colab\"/></a>"
      ]
    },
    {
      "cell_type": "code",
      "execution_count": null,
      "metadata": {
        "id": "3QU2I9GT2nv2"
      },
      "outputs": [],
      "source": [
        "# Python programe to illustrate\n",
        "# simple thresholding type on an image\n",
        "\n",
        "# organizing imports\n",
        "import cv2\n",
        "import numpy as np\n",
        "from google.colab.patches import cv2_imshow\n",
        "\n",
        "# path to input image is specified and\n",
        "# image is loaded with imread command\n",
        "image1 = cv2.imread('1.png')\n",
        "\n",
        "# cv2.cvtColor is applied over the\n",
        "# image input with applied parameters\n",
        "# to convert the image in grayscale\n",
        "img = cv2.cvtColor(image1, cv2.COLOR_BGR2GRAY)\n",
        "\n",
        "# applying different thresholding\n",
        "# techniques on the input image\n",
        "# all pixels value above 120 will\n",
        "# be set to 255\n",
        "ret, thresh1 = cv2.threshold(img, 120, 255, cv2.THRESH_BINARY)\n",
        "ret, thresh2 = cv2.threshold(img, 120, 255, cv2.THRESH_BINARY_INV)\n",
        "ret, thresh3 = cv2.threshold(img, 120, 255, cv2.THRESH_TRUNC)\n",
        "\n",
        "#The one we used in license plate recognition is to zero type\n",
        "ret, thresh4 = cv2.threshold(img, 180, 255, cv2.THRESH_TOZERO)\n",
        "\n",
        "ret, thresh5 = cv2.threshold(img, 120, 255, cv2.THRESH_TOZERO_INV)\n",
        "\n",
        "# the window showing output images\n",
        "# with the corresponding thresholding\n",
        "# techniques applied to the input images\n",
        "cv2.imwrite('Binary Threshold.jpg', thresh1)\n",
        "cv2.imwrite('Binary Threshold Inverted.jpg', thresh2)\n",
        "cv2.imwrite('Truncated Threshold.jpg', thresh3)\n",
        "cv2.imwrite('Set to 0.jpg', thresh4)\n",
        "cv2.imwrite('Set to 0 Inverted.jpg', thresh5)\n",
        "\n",
        "# De-allocate any associated memory usage\n",
        "if cv2.waitKey(0) & 0xff == 27:\n",
        "\tcv2.destroyAllWindows()\n"
      ]
    }
  ],
  "metadata": {
    "colab": {
      "provenance": [],
      "authorship_tag": "ABX9TyOmzjA3XAOsJ91rwooVXe5O",
      "include_colab_link": true
    },
    "kernelspec": {
      "display_name": "Python 3",
      "name": "python3"
    },
    "language_info": {
      "name": "python"
    }
  },
  "nbformat": 4,
  "nbformat_minor": 0
}