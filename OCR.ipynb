{
  "nbformat": 4,
  "nbformat_minor": 0,
  "metadata": {
    "colab": {
      "provenance": [],
      "authorship_tag": "ABX9TyMrBvI+cv0caW6F4wQBacaB",
      "include_colab_link": true
    },
    "kernelspec": {
      "name": "python3",
      "display_name": "Python 3"
    },
    "language_info": {
      "name": "python"
    }
  },
  "cells": [
    {
      "cell_type": "markdown",
      "metadata": {
        "id": "view-in-github",
        "colab_type": "text"
      },
      "source": [
        "<a href=\"https://colab.research.google.com/github/HanaeMoussaoui/License-plate-detection-and-recognition/blob/main/OCR.ipynb\" target=\"_parent\"><img src=\"https://colab.research.google.com/assets/colab-badge.svg\" alt=\"Open In Colab\"/></a>"
      ]
    },
    {
      "cell_type": "code",
      "execution_count": null,
      "metadata": {
        "id": "dYSyJ3FfcINQ"
      },
      "outputs": [],
      "source": [
        "!pip install easyocr\n",
        "\n",
        "# load example images\n",
        "!npx degit JaidedAI/EasyOCR/examples -f\n",
        "\n",
        "# show an image\n",
        "import PIL\n",
        "from PIL import ImageDraw\n",
        "im = PIL.Image.open(\"e.jpeg\")\n",
        "im\n",
        "\n",
        "# Create a reader to do OCR.\n",
        "# If you change to GPU instance, it will be faster. But CPU is enough.\n",
        "# (by MENU > Runtime > Change runtime type > GPU, then redo from beginning )\n",
        "import easyocr\n",
        "reader = easyocr.Reader(['fr','en'])\n",
        "\n",
        "# Doing OCR. Get bounding boxes.\n",
        "bounds = reader.readtext('e.jpeg')\n",
        "bounds\n",
        "\n",
        "# Draw bounding boxes\n",
        "def draw_boxes(image, bounds, color='yellow', width=2):\n",
        "    draw = ImageDraw.Draw(image)\n",
        "    for bound in bounds:\n",
        "        p0, p1, p2, p3 = bound[0]\n",
        "        draw.line([*p0, *p1, *p2, *p3, *p0], fill=color, width=width)\n",
        "    return image\n",
        "\n",
        "draw_boxes(im, bounds)\n",
        "\n"
      ]
    }
  ]
}