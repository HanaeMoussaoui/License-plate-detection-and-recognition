{
  "nbformat": 4,
  "nbformat_minor": 0,
  "metadata": {
    "colab": {
      "provenance": [],
      "authorship_tag": "ABX9TyOet1eTSNyj8Y7duq7EHQq1",
      "include_colab_link": true
    },
    "kernelspec": {
      "name": "python3",
      "display_name": "Python 3"
    },
    "language_info": {
      "name": "python"
    }
  },
  "cells": [
    {
      "cell_type": "markdown",
      "metadata": {
        "id": "view-in-github",
        "colab_type": "text"
      },
      "source": [
        "<a href=\"https://colab.research.google.com/github/HanaeMoussaoui/License-plate-detection-and-recognition/blob/main/kmeans.ipynb\" target=\"_parent\"><img src=\"https://colab.research.google.com/assets/colab-badge.svg\" alt=\"Open In Colab\"/></a>"
      ]
    },
    {
      "cell_type": "code",
      "metadata": {
        "colab": {
          "base_uri": "https://localhost:8080/"
        },
        "id": "Usfstv8YcMYb",
        "outputId": "0bee50f1-0fcb-492a-fd83-1ff2d8129504"
      },
      "source": [
        "import numpy as np\n",
        "import cv2\n",
        "import matplotlib.pyplot as plt\n",
        "from sklearn.cluster import KMeans\n",
        "from sklearn.cluster import MiniBatchKMeans\n",
        "\n",
        "from PIL import Image\n",
        "from pylab import *\n",
        "\n",
        "from keras import backend as K\n",
        "from sklearn.metrics import confusion_matrix\n",
        "\n",
        "\n",
        "image = cv2.imread(\"b.jpeg\")\n",
        "(h1, w1) = image.shape[:2]\n",
        "image = cv2.cvtColor(image, cv2.COLOR_BGR2LAB)\n",
        "\n",
        "image = image.reshape((image.shape[0] * image.shape[1], 3))\n",
        "\n",
        "clt = KMeans(n_clusters = 2)\n",
        "\n",
        "labels = clt.fit_predict(image)\n",
        "quant = clt.cluster_centers_.astype(\"uint8\")[labels]\n",
        "\n",
        "#reshape the feature vectors to images\n",
        "quant = quant.reshape((h1, w1, 3))\n",
        "image = image.reshape((h1, w1, 3))\n",
        "\n",
        "# convert from L*a*b* to RGB\n",
        "quant = cv2.cvtColor(quant, cv2.COLOR_LAB2BGR)\n",
        "image = cv2.cvtColor(image, cv2.COLOR_LAB2BGR)\n",
        "\n",
        "cv2.imwrite('generated.jpg', quant)\n",
        "\n",
        "cv2.waitKey(0)\n",
        "cv2.destroyAllWindows()"
      ],
      "execution_count": null,
      "outputs": [
        {
          "output_type": "stream",
          "name": "stderr",
          "text": [
            "/usr/local/lib/python3.10/dist-packages/sklearn/cluster/_kmeans.py:870: FutureWarning: The default value of `n_init` will change from 10 to 'auto' in 1.4. Set the value of `n_init` explicitly to suppress the warning\n",
            "  warnings.warn(\n"
          ]
        }
      ]
    }
  ]
}